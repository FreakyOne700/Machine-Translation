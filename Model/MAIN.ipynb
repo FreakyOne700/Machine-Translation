{
 "cells": [
  {
   "cell_type": "code",
   "execution_count": null,
   "metadata": {},
   "outputs": [],
   "source": [
    "import math\n",
    "import torch\n",
    "import torch.nn as nn\n",
    "import torch.nn.functional as F\n",
    "from torch.utils.data import dataset\n",
    "from torchsummary import summary\n",
    "from datetime import datetime\n",
    "import numpy as np\n",
    "import matplotlib.pyplot as plt\n",
    "from torch.nn.utils.rnn import pad_sequence\n",
    "from tokenizers import Tokenizer\n",
    "import pandas as pd\n",
    "from torch.utils.data import Dataset\n",
    "from sklearn.model_selection import train_test_split\n",
    "import numpy as np\n",
    "import matplotlib.pyplot as plt\n",
    "import Transformer\n",
    "\n",
    "class MultiHeadAttention(nn.Module):\n",
    "    def __init__(self, d_k, d_model, n_heads, max_len, causal=False):\n",
    "        super().__init__()\n",
    "        \n",
    "        self.d_k = d_k\n",
    "        self.n_heads = n_heads\n",
    "\n",
    "        self.key = nn.Linear(d_model,d_k * n_heads)\n",
    "        self.query = nn.Linear(d_model,d_k * n_heads)\n",
    "        self.values = nn.Linear(d_model,d_k * n_heads)\n",
    "        \n",
    "        self.fc = nn.Linear(d_k*n_heads,d_model)\n",
    "\n",
    "        self.causal = causal\n",
    "\n",
    "        if causal:\n",
    "            cm = torch.tril(torch.ones(max_len,max_len))\n",
    "            self.register_buffer(\"causal_mask\",cm.view(1,1,max_len,max_len))\n",
    "    def forward(self, q, k, v, pad_mask=None):\n",
    "        q = self.query(q)\n",
    "        k = self.key(k)\n",
    "        v = self.values(v)\n",
    "\n",
    "        N = q.shape[0]\n",
    "        T_output = q.shape[1]\n",
    "        T_input = k.shape[1]\n",
    "\n",
    "        q = q.view(N,T_output,self.n_heads,self.d_k).transpose(1,2)\n",
    "        k = k.view(N,T_input,self.n_heads,self.d_k).transpose(1,2)\n",
    "        v = v.view(N,T_input,self.n_heads,self.d_k).transpose(1,2)\n",
    "\n",
    "        # Compute attention\n",
    "        # (N,h,T,d_k) x (N,h,d_k,T) --> (N,h,T,T)\n",
    "\n",
    "        \n",
    "        attn_scores = q @ k.transpose(-2, -1) / math.sqrt(self.d_k)\n",
    "\n",
    "        if pad_mask is not None:\n",
    "            attn_scores=attn_scores.masked_fill(pad_mask[:,None,None,:]==0,float('-inf'))\n",
    "\n",
    "        if self.causal:\n",
    "            attn_scores = attn_scores.masked_fill(\n",
    "\n",
    "            self.causal_mask[:, :, :T_output, :T_input] == 0,float('-inf'))\n",
    "\n",
    "        attn_weights = F.softmax(attn_scores, dim=-1) \n",
    "\n",
    "       \n",
    "\n",
    "\n",
    "        A = attn_weights @ v\n",
    "        A = A.transpose(1, 2)\n",
    "        \n",
    "        A = A.contiguous().view(N, T_output, self.d_k * self.n_heads)\n",
    "        return self.fc(A)\n",
    "\n",
    "class EncoderBlock(nn.Module):\n",
    "    def __init__(self,d_k,d_model,n_heads,max_len,dropout_prob=0.1):\n",
    "        super().__init__()\n",
    "\n",
    "        self.ln1 = nn.LayerNorm(d_model)\n",
    "        self.ln2 = nn.LayerNorm(d_model)\n",
    "        self.mha = MultiHeadAttention(d_k,d_model,n_heads,max_len,causal = False)\n",
    "        self.ann = nn.Sequential(\n",
    "            nn.Linear(d_model,d_model*4),\n",
    "            nn.GELU(),\n",
    "            nn.Linear(d_model*4,d_model),\n",
    "            nn.Dropout(dropout_prob)\n",
    "        )\n",
    "        self.dropout = nn.Dropout(p = dropout_prob)\n",
    "\n",
    "    def forward(self,x,pad_mask=None):\n",
    "        x = self.ln1(x + self.mha(x,x,x,pad_mask))\n",
    "        x = self.ln2(x + self.ann(x))\n",
    "        x = self.dropout(x)\n",
    "\n",
    "        return x\n",
    "    \n",
    "class DecoderBlock(nn.Module):\n",
    "    def __init__(self,d_k,d_model,n_heads,max_len,dropout_prob=0.1):\n",
    "        super().__init__()\n",
    "        self.ln1 = nn.LayerNorm(d_model)\n",
    "        self.ln2 = nn.LayerNorm(d_model)\n",
    "        self.ln3 = nn.LayerNorm(d_model)\n",
    "        self.mha1 = MultiHeadAttention(d_k,d_model,n_heads,max_len,causal= True)\n",
    "        self.mha2 = MultiHeadAttention(d_k,d_model,n_heads,max_len,causal=False)\n",
    "        self.ann = nn.Sequential(\n",
    "            nn.Linear(d_model,d_model*4),\n",
    "            nn.GELU(),\n",
    "            nn.Linear(d_model*4,d_model),\n",
    "            nn.Dropout(dropout_prob)\n",
    "        )\n",
    "        self.dropout = nn.Dropout(p = dropout_prob)\n",
    "\n",
    "    def forward(self,enc_output,dec_input,enc_mask = None,dec_mask = None):\n",
    "        x = self.ln1(dec_input + self.mha1(dec_input,dec_input,dec_input,dec_mask))\n",
    "        x = self.ln2(x+self.mha2(x,enc_output,enc_output,enc_mask))\n",
    "        x = self.ln3(x + self.ann(x))\n",
    "        x = self.dropout(x)\n",
    "        return x\n",
    "\n",
    "class PositionalEncoding(nn.Module):\n",
    "    def __init__(self, d_model,max_len = 2048,dropout_prob = 0.1):\n",
    "        super().__init__()\n",
    "        self.dropout = nn.Dropout(p = dropout_prob)\n",
    "\n",
    "        position = torch.arange(max_len).unsqueeze(1)\n",
    "        exp_term = torch.arange(0,d_model,2)\n",
    "        div_term = torch.exp(exp_term*(-math.log(10000.0)/d_model))\n",
    "        pe = torch.zeros(1,max_len,d_model)\n",
    "        pe[0,:,0::2] = torch.sin(position*div_term)\n",
    "        pe[0,:,1::2] = torch.cos(position*div_term)\n",
    "        self.register_buffer('pe',pe)\n",
    "\n",
    "    def forward(self,x):\n",
    "        #x.shape :N x T x D\n",
    "        x = x + self.pe[:,:x.size(1),:]\n",
    "        return self.dropout(x)\n",
    "        \n",
    "class Encoder(nn.Module):\n",
    "    def __init__(self,vocab_size,max_len,d_k,d_model,n_heads,n_layers,dropout_prob):\n",
    "        super().__init__()\n",
    "\n",
    "        self.embedding = nn.Embedding(vocab_size,d_model)\n",
    "        self.pos_encoding = PositionalEncoding(d_model,max_len,dropout_prob)\n",
    "        transformer_block = [\n",
    "            EncoderBlock(d_k,d_model,n_heads,max_len,dropout_prob) for _ in range(n_layers)\n",
    "        ]\n",
    "        self.transformer_blocks = nn.Sequential(*transformer_block)\n",
    "        self.ln = nn.LayerNorm(d_model)\n",
    "\n",
    "    def forward(self,x,pad_mask=None):\n",
    "        x = self.embedding(x)\n",
    "        x = self.pos_encoding(x)\n",
    "        for block in self.transformer_blocks:\n",
    "            x = block(x,pad_mask)\n",
    "        x = self.ln(x)\n",
    "        return x\n",
    "\n",
    "class Decoder(nn.Module):\n",
    "    def __init__(self,vocab_size,max_len,d_k,d_model,n_heads,n_layers,dropout_prob):\n",
    "        super().__init__()\n",
    "\n",
    "        self.embedding = nn.Embedding(vocab_size,d_model)\n",
    "        self.pos_encoding = PositionalEncoding(d_model,max_len,dropout_prob)\n",
    "        transformer_blocks = [\n",
    "            DecoderBlock(d_k,d_model,n_heads,max_len,dropout_prob) for _ in range(n_layers)\n",
    "        ]\n",
    "        self.transformers_blocks = nn.Sequential(*transformer_blocks)\n",
    "        self.ln = nn.LayerNorm(d_model)\n",
    "        self.fc = nn.Linear(d_model,vocab_size)\n",
    "\n",
    "    def forward(self,enc_output,dec_input,enc_mask = None,dec_mask = None):\n",
    "        x = self.embedding(dec_input)\n",
    "        x = self.pos_encoding(x)\n",
    "        for block in self.transformers_blocks:\n",
    "            x = block(enc_output,x,enc_mask,dec_mask)\n",
    "        x = self.ln(x)\n",
    "        x = self.fc(x)\n",
    "        return x\n",
    "    \n",
    "class Transformer(nn.Module):\n",
    "    def __init__(self,encoder,decoder):\n",
    "        super().__init__()\n",
    "\n",
    "        self.encoder = encoder\n",
    "        self.decoder = decoder\n",
    "    def forward(self,enc_input,dec_input,enc_mask,dec_mask):\n",
    "        enc_output = self.encoder(enc_input,enc_mask)\n",
    "        dec_output = self.decoder(enc_output,dec_input,enc_mask,dec_mask)\n",
    "        return dec_output\n"
   ]
  },
  {
   "cell_type": "code",
   "execution_count": 1,
   "metadata": {},
   "outputs": [
    {
     "ename": "NameError",
     "evalue": "name 'torch' is not defined",
     "output_type": "error",
     "traceback": [
      "\u001b[1;31m---------------------------------------------------------------------------\u001b[0m",
      "\u001b[1;31mNameError\u001b[0m                                 Traceback (most recent call last)",
      "Cell \u001b[1;32mIn[1], line 1\u001b[0m\n\u001b[1;32m----> 1\u001b[0m device \u001b[38;5;241m=\u001b[39m \u001b[38;5;124m\"\u001b[39m\u001b[38;5;124mcuda:0\u001b[39m\u001b[38;5;124m\"\u001b[39m \u001b[38;5;28;01mif\u001b[39;00m \u001b[43mtorch\u001b[49m\u001b[38;5;241m.\u001b[39mcuda\u001b[38;5;241m.\u001b[39mis_available() \u001b[38;5;28;01melse\u001b[39;00m \u001b[38;5;124m\"\u001b[39m\u001b[38;5;124mcpu\u001b[39m\u001b[38;5;124m\"\u001b[39m\n\u001b[0;32m      2\u001b[0m device\n",
      "\u001b[1;31mNameError\u001b[0m: name 'torch' is not defined"
     ]
    }
   ],
   "source": [
    "device = \"cuda:0\" if torch.cuda.is_available() else \"cpu\"\n",
    "device"
   ]
  },
  {
   "cell_type": "code",
   "execution_count": 6,
   "metadata": {},
   "outputs": [
    {
     "name": "stderr",
     "output_type": "stream",
     "text": [
      "Generating train split: 100001 examples [00:00, 183270.77 examples/s]\n"
     ]
    }
   ],
   "source": [
    "from datasets import load_dataset\n",
    "raw_dataset = load_dataset(\n",
    "    'csv',\n",
    "    data_files=r'..\\Datasets\\Dataset.csv',  \n",
    "    delimiter=',',      \n",
    "    column_names=[\"src\", \"tgt\"]  \n",
    ")"
   ]
  },
  {
   "cell_type": "code",
   "execution_count": 7,
   "metadata": {},
   "outputs": [
    {
     "data": {
      "text/plain": [
       "DatasetDict({\n",
       "    train: Dataset({\n",
       "        features: ['src', 'tgt'],\n",
       "        num_rows: 100001\n",
       "    })\n",
       "})"
      ]
     },
     "execution_count": 7,
     "metadata": {},
     "output_type": "execute_result"
    }
   ],
   "source": [
    "raw_dataset"
   ]
  },
  {
   "cell_type": "code",
   "execution_count": 8,
   "metadata": {},
   "outputs": [],
   "source": [
    "split = raw_dataset['train'].train_test_split(test_size=.2,seed=42)"
   ]
  },
  {
   "cell_type": "code",
   "execution_count": 9,
   "metadata": {},
   "outputs": [
    {
     "data": {
      "text/plain": [
       "DatasetDict({\n",
       "    train: Dataset({\n",
       "        features: ['src', 'tgt'],\n",
       "        num_rows: 80000\n",
       "    })\n",
       "    test: Dataset({\n",
       "        features: ['src', 'tgt'],\n",
       "        num_rows: 20001\n",
       "    })\n",
       "})"
      ]
     },
     "execution_count": 9,
     "metadata": {},
     "output_type": "execute_result"
    }
   ],
   "source": [
    "split"
   ]
  },
  {
   "cell_type": "code",
   "execution_count": 11,
   "metadata": {},
   "outputs": [
    {
     "ename": "Exception",
     "evalue": "The system cannot find the path specified. (os error 3)",
     "output_type": "error",
     "traceback": [
      "\u001b[1;31m---------------------------------------------------------------------------\u001b[0m",
      "\u001b[1;31mException\u001b[0m                                 Traceback (most recent call last)",
      "Cell \u001b[1;32mIn[11], line 1\u001b[0m\n\u001b[1;32m----> 1\u001b[0m tokenizer \u001b[38;5;241m=\u001b[39m \u001b[43mTokenizer\u001b[49m\u001b[38;5;241;43m.\u001b[39;49m\u001b[43mfrom_file\u001b[49m\u001b[43m(\u001b[49m\u001b[38;5;124;43mr\u001b[39;49m\u001b[38;5;124;43m\"\u001b[39;49m\u001b[38;5;124;43mTokenizer\u001b[39;49m\u001b[38;5;124;43m\\\u001b[39;49m\u001b[38;5;124;43mtest_tokenizer.json\u001b[39;49m\u001b[38;5;124;43m\"\u001b[39;49m\u001b[43m)\u001b[49m\n\u001b[0;32m      4\u001b[0m src_sentence \u001b[38;5;241m=\u001b[39m split[\u001b[38;5;124m'\u001b[39m\u001b[38;5;124mtrain\u001b[39m\u001b[38;5;124m'\u001b[39m][\u001b[38;5;241m0\u001b[39m][\u001b[38;5;124m'\u001b[39m\u001b[38;5;124msrc\u001b[39m\u001b[38;5;124m'\u001b[39m]\n\u001b[0;32m      5\u001b[0m tgt_sentence \u001b[38;5;241m=\u001b[39m split[\u001b[38;5;124m'\u001b[39m\u001b[38;5;124mtrain\u001b[39m\u001b[38;5;124m'\u001b[39m][\u001b[38;5;241m0\u001b[39m][\u001b[38;5;124m'\u001b[39m\u001b[38;5;124mtgt\u001b[39m\u001b[38;5;124m'\u001b[39m]\n",
      "\u001b[1;31mException\u001b[0m: The system cannot find the path specified. (os error 3)"
     ]
    }
   ],
   "source": [
    "tokenizer = Tokenizer.from_file(r\"Tokenizer\\test_tokenizer.json\")\n",
    "\n",
    "\n",
    "src_sentence = split['train'][0]['src']\n",
    "tgt_sentence = split['train'][0]['tgt']\n",
    "inputs = tokenizer.encode(src_sentence)\n",
    "inputs.ids\n",
    "tokenizer.decode(inputs.ids)"
   ]
  },
  {
   "cell_type": "code",
   "execution_count": 12,
   "metadata": {},
   "outputs": [],
   "source": [
    "from tokenizers.processors import TemplateProcessing\n",
    "from tokenizers import Tokenizer\n",
    "from transformers import PreTrainedTokenizerFast\n",
    "\n",
    "tok = Tokenizer.from_file(r\"..\\Tokenizer\\test_tokenizer.json\")\n",
    "\n",
    "tok.post_processor = TemplateProcessing(\n",
    "    single=\"<s> $A </s>\",\n",
    "    pair=\"<s> $A </s> <s> $B </s>\",\n",
    "    special_tokens=[\n",
    "        (\"<s>\", tok.token_to_id(\"<s>\")),\n",
    "        (\"</s>\", tok.token_to_id(\"</s>\")),\n",
    "    ],\n",
    ")\n",
    "\n",
    "tokenizer = PreTrainedTokenizerFast(\n",
    "    tokenizer_object=tok,\n",
    "    bos_token=\"<s>\",\n",
    "    eos_token=\"</s>\",\n",
    "    pad_token=\"<pad>\",\n",
    "    unk_token=\"<unk>\",\n",
    "    cls_token=\"<s>\",\n",
    "    sep_token=\"</s>\",\n",
    ")\n"
   ]
  },
  {
   "cell_type": "code",
   "execution_count": 13,
   "metadata": {},
   "outputs": [],
   "source": [
    "max_input_length = 32\n",
    "max_target_length = 32\n",
    "\n",
    "def preprocess_function(batch):\n",
    "\n",
    "    model_inputs = tokenizer(\n",
    "        batch['src'],\n",
    "        max_length=max_input_length,\n",
    "        truncation=True,\n",
    "        padding=\"max_length\",\n",
    "        add_special_tokens=True \n",
    "    )\n",
    "\n",
    "    \n",
    "    labels = tokenizer(\n",
    "            text_target=batch['tgt'],  \n",
    "            max_length=max_target_length,\n",
    "            truncation=True,\n",
    "            padding=\"max_length\",\n",
    "            add_special_tokens=True \n",
    "        )\n",
    "\n",
    "    model_inputs[\"labels\"] = labels[\"input_ids\"]\n",
    "    return model_inputs"
   ]
  },
  {
   "cell_type": "code",
   "execution_count": 14,
   "metadata": {},
   "outputs": [
    {
     "name": "stderr",
     "output_type": "stream",
     "text": [
      "Map: 100%|██████████| 80000/80000 [00:04<00:00, 16146.69 examples/s]\n",
      "Map: 100%|██████████| 20001/20001 [00:01<00:00, 13023.20 examples/s]\n"
     ]
    }
   ],
   "source": [
    "tokenized_dataset = split.map(preprocess_function,batched=True,remove_columns=split['train'].column_names,)"
   ]
  },
  {
   "cell_type": "code",
   "execution_count": 15,
   "metadata": {},
   "outputs": [
    {
     "data": {
      "text/plain": [
       "DatasetDict({\n",
       "    train: Dataset({\n",
       "        features: ['input_ids', 'token_type_ids', 'attention_mask', 'labels'],\n",
       "        num_rows: 80000\n",
       "    })\n",
       "    test: Dataset({\n",
       "        features: ['input_ids', 'token_type_ids', 'attention_mask', 'labels'],\n",
       "        num_rows: 20001\n",
       "    })\n",
       "})"
      ]
     },
     "execution_count": 15,
     "metadata": {},
     "output_type": "execute_result"
    }
   ],
   "source": [
    "tokenized_dataset"
   ]
  },
  {
   "cell_type": "code",
   "execution_count": 16,
   "metadata": {},
   "outputs": [
    {
     "name": "stdout",
     "output_type": "stream",
     "text": [
      "WARNING:tensorflow:From C:\\Users\\shara\\AppData\\Local\\Packages\\PythonSoftwareFoundation.Python.3.11_qbz5n2kfra8p0\\LocalCache\\local-packages\\Python311\\site-packages\\keras\\src\\losses.py:2976: The name tf.losses.sparse_softmax_cross_entropy is deprecated. Please use tf.compat.v1.losses.sparse_softmax_cross_entropy instead.\n",
      "\n"
     ]
    }
   ],
   "source": [
    "from transformers import DataCollatorForSeq2Seq\n",
    "data_collator = DataCollatorForSeq2Seq(tokenizer)"
   ]
  },
  {
   "cell_type": "code",
   "execution_count": 17,
   "metadata": {},
   "outputs": [
    {
     "data": {
      "text/plain": [
       "dict_keys(['input_ids', 'token_type_ids', 'attention_mask', 'labels'])"
      ]
     },
     "execution_count": 17,
     "metadata": {},
     "output_type": "execute_result"
    }
   ],
   "source": [
    "batch = data_collator([tokenized_dataset['train'][i] for i in range(0,5)])\n",
    "batch.keys()"
   ]
  },
  {
   "cell_type": "code",
   "execution_count": 18,
   "metadata": {},
   "outputs": [
    {
     "data": {
      "text/plain": [
       "dict_keys(['input_ids', 'attention_mask', 'labels'])"
      ]
     },
     "execution_count": 18,
     "metadata": {},
     "output_type": "execute_result"
    }
   ],
   "source": [
    "batch.pop(\"token_type_ids\", None)\n",
    "batch.keys()"
   ]
  },
  {
   "cell_type": "code",
   "execution_count": 19,
   "metadata": {},
   "outputs": [
    {
     "data": {
      "text/plain": [
       "tensor([[    2,     6,   338,   160,   125, 25220,    18,     3,     0,     0,\n",
       "             0,     0,     0,     0,     0,     0,     0,     0,     0,     0,\n",
       "             0,     0,     0,     0,     0,     0,     0,     0,     0,     0,\n",
       "             0,     0],\n",
       "        [    2,     6,    59,    14,   149,    98,  8458,    11,     3,     0,\n",
       "             0,     0,     0,     0,     0,     0,     0,     0,     0,     0,\n",
       "             0,     0,     0,     0,     0,     0,     0,     0,     0,     0,\n",
       "             0,     0],\n",
       "        [    2,     5,   145, 23707,    12, 11660,    11,     3,     0,     0,\n",
       "             0,     0,     0,     0,     0,     0,     0,     0,     0,     0,\n",
       "             0,     0,     0,     0,     0,     0,     0,     0,     0,     0,\n",
       "             0,     0],\n",
       "        [    2,     6,    52,    27,  5093,    99,    14,  1206,    11,     3,\n",
       "             0,     0,     0,     0,     0,     0,     0,     0,     0,     0,\n",
       "             0,     0,     0,     0,     0,     0,     0,     0,     0,     0,\n",
       "             0,     0],\n",
       "        [    2,     6,   153,  2899,    27,  3172,    11,     3,     0,     0,\n",
       "             0,     0,     0,     0,     0,     0,     0,     0,     0,     0,\n",
       "             0,     0,     0,     0,     0,     0,     0,     0,     0,     0,\n",
       "             0,     0]])"
      ]
     },
     "execution_count": 19,
     "metadata": {},
     "output_type": "execute_result"
    }
   ],
   "source": [
    "batch['labels']"
   ]
  },
  {
   "cell_type": "code",
   "execution_count": 20,
   "metadata": {},
   "outputs": [
    {
     "data": {
      "text/plain": [
       "[2, 3, 1, 0]"
      ]
     },
     "execution_count": 20,
     "metadata": {},
     "output_type": "execute_result"
    }
   ],
   "source": [
    "tokenizer.all_special_ids"
   ]
  },
  {
   "cell_type": "code",
   "execution_count": 21,
   "metadata": {},
   "outputs": [
    {
     "data": {
      "text/plain": [
       "['<s>', '</s>', '<unk>', '<pad>']"
      ]
     },
     "execution_count": 21,
     "metadata": {},
     "output_type": "execute_result"
    }
   ],
   "source": [
    "tokenizer.all_special_tokens"
   ]
  },
  {
   "cell_type": "code",
   "execution_count": 22,
   "metadata": {},
   "outputs": [
    {
     "data": {
      "text/plain": [
       "{'input_ids': [2, 4210, 2369, 42, 3], 'token_type_ids': [0, 0, 0, 0, 0], 'attention_mask': [1, 1, 1, 1, 1]}"
      ]
     },
     "execution_count": 22,
     "metadata": {},
     "output_type": "execute_result"
    }
   ],
   "source": [
    "encoding = tokenizer(\"Hello world!\", add_special_tokens=True)\n",
    "encoding"
   ]
  },
  {
   "cell_type": "code",
   "execution_count": 23,
   "metadata": {},
   "outputs": [],
   "source": [
    "from torch.utils.data import DataLoader\n",
    "\n",
    "train_loader = DataLoader(\n",
    "    tokenized_dataset['train'],\n",
    "    shuffle=True,\n",
    "    batch_size=32,\n",
    "    collate_fn=data_collator\n",
    ")\n",
    "\n",
    "valid_loader = DataLoader(\n",
    "    tokenized_dataset['test'],\n",
    "    batch_size=32,\n",
    "    collate_fn=data_collator\n",
    ")"
   ]
  },
  {
   "cell_type": "code",
   "execution_count": 24,
   "metadata": {},
   "outputs": [
    {
     "name": "stdout",
     "output_type": "stream",
     "text": [
      "k: input_ids v.shape torch.Size([32, 32])\n",
      "k: token_type_ids v.shape torch.Size([32, 32])\n",
      "k: attention_mask v.shape torch.Size([32, 32])\n",
      "k: labels v.shape torch.Size([32, 32])\n"
     ]
    }
   ],
   "source": [
    "for batch in train_loader:\n",
    "    for k ,v in batch.items():\n",
    "        print(\"k:\",k,\"v.shape\",v.shape)\n",
    "    break"
   ]
  },
  {
   "cell_type": "code",
   "execution_count": 25,
   "metadata": {},
   "outputs": [
    {
     "data": {
      "text/plain": [
       "34169"
      ]
     },
     "execution_count": 25,
     "metadata": {},
     "output_type": "execute_result"
    }
   ],
   "source": [
    "tokenizer.vocab_size"
   ]
  },
  {
   "cell_type": "code",
   "execution_count": 26,
   "metadata": {},
   "outputs": [],
   "source": [
    "encoder = Encoder(vocab_size=tokenizer.vocab_size+1,\n",
    "                  max_len=512,\n",
    "                  d_k=16,\n",
    "                  d_model=64,\n",
    "                  n_heads=4,\n",
    "                  n_layers=2,\n",
    "                  dropout_prob=0.1)\n",
    "\n",
    "decoder = Decoder(vocab_size=tokenizer.vocab_size+1,\n",
    "                  max_len=512,\n",
    "                  d_k=16,\n",
    "                  d_model=64,\n",
    "                  n_heads=4,\n",
    "                  n_layers=2,\n",
    "                  dropout_prob=0.1)\n",
    "transformer = Transformer(encoder,decoder)"
   ]
  },
  {
   "cell_type": "code",
   "execution_count": 27,
   "metadata": {},
   "outputs": [
    {
     "name": "stdout",
     "output_type": "stream",
     "text": [
      "cuda:0\n"
     ]
    }
   ],
   "source": [
    "device = torch.device(\"cuda:0\" if torch.cuda.is_available() else \"cpu\")\n",
    "print(device)"
   ]
  },
  {
   "cell_type": "code",
   "execution_count": 28,
   "metadata": {},
   "outputs": [],
   "source": [
    "criterion = nn.CrossEntropyLoss(ignore_index=0)\n",
    "optimizer = torch.optim.Adam(transformer.parameters())"
   ]
  },
  {
   "cell_type": "code",
   "execution_count": 29,
   "metadata": {},
   "outputs": [],
   "source": [
    "from datetime import datetime\n",
    "from tqdm import tqdm\n",
    "\n",
    "def train(model,criterion,optimizer,train_loader,valid_loader,epochs):\n",
    "    train_losses = np.zeros(epochs)\n",
    "    test_losses = np.zeros(epochs)\n",
    "    for it in range(epochs):\n",
    "        model.train()\n",
    "        t0 = datetime.now()\n",
    "        train_loss = []\n",
    "        for batch in tqdm(train_loader, desc=f\"Epoch {it+1}/{epochs}\", leave=False):\n",
    "            batch.pop(\"token_type_ids\", None)\n",
    "            batch = {k : v.to(device) for k,v in batch.items()}\n",
    "\n",
    "            optimizer.zero_grad()\n",
    "\n",
    "            enc_input = batch['input_ids']\n",
    "            enc_mask = batch['attention_mask']\n",
    "            targets = batch['labels']\n",
    "\n",
    "            dec_input = targets.clone().detach()\n",
    "            dec_input = torch.roll(dec_input,shifts=1,dims=1)\n",
    "\n",
    "            dec_mask = torch.ones_like(dec_input)\n",
    "            dec_mask = dec_mask.masked_fill(dec_input==tokenizer.pad_token_id,0)\n",
    "\n",
    "            outputs = model(enc_input,dec_input,enc_mask,targets)\n",
    "            loss = criterion(outputs.transpose(2,1),targets)\n",
    "            loss.backward()\n",
    "            optimizer.step()\n",
    "            train_loss.append(loss.item())\n",
    "        train_loss=np.mean(train_loss)\n",
    "        model.eval()\n",
    "\n",
    "        test_loss = []\n",
    "        for batch in tqdm(valid_loader, desc=\"Validating\", leave=False):\n",
    "            batch.pop(\"token_type_ids\", None)\n",
    "            batch = {k : v.to(device) for k,v in batch.items()}\n",
    "\n",
    "            optimizer.zero_grad()\n",
    "\n",
    "            enc_input = batch['input_ids']\n",
    "            enc_mask = batch['attention_mask']\n",
    "            targets = batch['labels']\n",
    "\n",
    "            dec_input = targets.clone().detach()\n",
    "            dec_input = torch.roll(dec_input,shifts=1,dims=1)\n",
    "\n",
    "            dec_mask = torch.ones_like(dec_input)\n",
    "            dec_mask = dec_mask.masked_fill(dec_input==tokenizer.pad_token_id,0)\n",
    "\n",
    "            outputs = model(enc_input,dec_input,enc_mask,targets)\n",
    "            loss = criterion(outputs.transpose(2,1),targets)\n",
    "            loss.backward()\n",
    "            optimizer.step()\n",
    "            test_loss.append(loss.item())\n",
    "        test_loss=np.mean(test_loss)\n",
    "        train_losses[it]=train_loss\n",
    "        test_losses[it]=test_loss\n",
    "\n",
    "        dt = datetime.now()-t0\n",
    "        print(f\"Epoch {it+1}/{epochs}, Train Loss : {train_loss:.4f}, Test_Loss: {test_loss:.4f}, Duration: {dt}\")\n",
    "    return train_losses,test_losses\n"
   ]
  },
  {
   "cell_type": "code",
   "execution_count": null,
   "metadata": {},
   "outputs": [
    {
     "name": "stderr",
     "output_type": "stream",
     "text": [
      "                                                               \r"
     ]
    },
    {
     "name": "stdout",
     "output_type": "stream",
     "text": [
      "Epoch 1/20, Train Loss : 3.0324, Test_Loss: 2.1645, Duration: 0:06:27.416220\n"
     ]
    },
    {
     "name": "stderr",
     "output_type": "stream",
     "text": [
      "                                                               \r"
     ]
    },
    {
     "name": "stdout",
     "output_type": "stream",
     "text": [
      "Epoch 2/20, Train Loss : 2.0439, Test_Loss: 1.5631, Duration: 0:05:35.353413\n"
     ]
    },
    {
     "name": "stderr",
     "output_type": "stream",
     "text": [
      "                                                               \r"
     ]
    },
    {
     "name": "stdout",
     "output_type": "stream",
     "text": [
      "Epoch 3/20, Train Loss : 1.7007, Test_Loss: 1.2421, Duration: 0:04:53.182989\n"
     ]
    },
    {
     "name": "stderr",
     "output_type": "stream",
     "text": [
      "                                                               \r"
     ]
    },
    {
     "name": "stdout",
     "output_type": "stream",
     "text": [
      "Epoch 4/20, Train Loss : 1.4997, Test_Loss: 1.0464, Duration: 0:04:53.255092\n"
     ]
    },
    {
     "name": "stderr",
     "output_type": "stream",
     "text": [
      "                                                               \r"
     ]
    },
    {
     "name": "stdout",
     "output_type": "stream",
     "text": [
      "Epoch 5/20, Train Loss : 1.3645, Test_Loss: 0.9180, Duration: 0:04:53.867160\n"
     ]
    },
    {
     "name": "stderr",
     "output_type": "stream",
     "text": [
      "                                                               \r"
     ]
    },
    {
     "name": "stdout",
     "output_type": "stream",
     "text": [
      "Epoch 6/20, Train Loss : 1.2691, Test_Loss: 0.8251, Duration: 0:04:53.130995\n"
     ]
    },
    {
     "name": "stderr",
     "output_type": "stream",
     "text": [
      "                                                               \r"
     ]
    },
    {
     "name": "stdout",
     "output_type": "stream",
     "text": [
      "Epoch 7/20, Train Loss : 1.1947, Test_Loss: 0.7573, Duration: 0:04:52.862825\n"
     ]
    },
    {
     "name": "stderr",
     "output_type": "stream",
     "text": [
      "                                                               \r"
     ]
    },
    {
     "name": "stdout",
     "output_type": "stream",
     "text": [
      "Epoch 8/20, Train Loss : 1.1357, Test_Loss: 0.7069, Duration: 0:04:53.089075\n"
     ]
    },
    {
     "name": "stderr",
     "output_type": "stream",
     "text": [
      "                                                               \r"
     ]
    },
    {
     "name": "stdout",
     "output_type": "stream",
     "text": [
      "Epoch 9/20, Train Loss : 1.0856, Test_Loss: 0.6658, Duration: 0:04:54.146076\n"
     ]
    },
    {
     "name": "stderr",
     "output_type": "stream",
     "text": [
      "                                                                \r"
     ]
    },
    {
     "name": "stdout",
     "output_type": "stream",
     "text": [
      "Epoch 10/20, Train Loss : 1.0471, Test_Loss: 0.6339, Duration: 0:06:07.864912\n"
     ]
    },
    {
     "name": "stderr",
     "output_type": "stream",
     "text": [
      "                                                                \r"
     ]
    },
    {
     "ename": "KeyboardInterrupt",
     "evalue": "",
     "output_type": "error",
     "traceback": [
      "\u001b[1;31m---------------------------------------------------------------------------\u001b[0m",
      "\u001b[1;31mKeyboardInterrupt\u001b[0m                         Traceback (most recent call last)",
      "Cell \u001b[1;32mIn[26], line 3\u001b[0m\n\u001b[0;32m      1\u001b[0m transformer\u001b[38;5;241m.\u001b[39mto(device)\n\u001b[1;32m----> 3\u001b[0m train_losses ,test_losses \u001b[38;5;241m=\u001b[39m \u001b[43mtrain\u001b[49m\u001b[43m(\u001b[49m\n\u001b[0;32m      4\u001b[0m \u001b[43m    \u001b[49m\u001b[43mtransformer\u001b[49m\u001b[43m,\u001b[49m\u001b[43mcriterion\u001b[49m\u001b[43m,\u001b[49m\u001b[43moptimizer\u001b[49m\u001b[43m,\u001b[49m\u001b[43mtrain_loader\u001b[49m\u001b[43m,\u001b[49m\u001b[43mvalid_loader\u001b[49m\u001b[43m,\u001b[49m\u001b[38;5;241;43m20\u001b[39;49m\n\u001b[0;32m      5\u001b[0m \u001b[43m)\u001b[49m\n",
      "Cell \u001b[1;32mIn[25], line 56\u001b[0m, in \u001b[0;36mtrain\u001b[1;34m(model, criterion, optimizer, train_loader, valid_loader, epochs)\u001b[0m\n\u001b[0;32m     54\u001b[0m     loss\u001b[38;5;241m.\u001b[39mbackward()\n\u001b[0;32m     55\u001b[0m     optimizer\u001b[38;5;241m.\u001b[39mstep()\n\u001b[1;32m---> 56\u001b[0m     test_loss\u001b[38;5;241m.\u001b[39mappend(\u001b[43mloss\u001b[49m\u001b[38;5;241;43m.\u001b[39;49m\u001b[43mitem\u001b[49m\u001b[43m(\u001b[49m\u001b[43m)\u001b[49m)\n\u001b[0;32m     57\u001b[0m test_loss\u001b[38;5;241m=\u001b[39mnp\u001b[38;5;241m.\u001b[39mmean(test_loss)\n\u001b[0;32m     58\u001b[0m train_losses[it]\u001b[38;5;241m=\u001b[39mtrain_loss\n",
      "\u001b[1;31mKeyboardInterrupt\u001b[0m: "
     ]
    }
   ],
   "source": [
    "transformer.to(device)\n",
    "\n",
    "train_losses ,test_losses = train(\n",
    "    transformer,criterion,optimizer,train_loader,valid_loader,20\n",
    ")"
   ]
  },
  {
   "cell_type": "code",
   "execution_count": null,
   "metadata": {},
   "outputs": [
    {
     "ename": "NameError",
     "evalue": "name 'train_losses' is not defined",
     "output_type": "error",
     "traceback": [
      "\u001b[1;31m---------------------------------------------------------------------------\u001b[0m",
      "\u001b[1;31mNameError\u001b[0m                                 Traceback (most recent call last)",
      "Cell \u001b[1;32mIn[28], line 16\u001b[0m\n\u001b[0;32m     14\u001b[0m     plt\u001b[38;5;241m.\u001b[39mtight_layout()\n\u001b[0;32m     15\u001b[0m     plt\u001b[38;5;241m.\u001b[39mshow()\n\u001b[1;32m---> 16\u001b[0m plot_loss(\u001b[43mtrain_losses\u001b[49m ,test_losses )\n",
      "\u001b[1;31mNameError\u001b[0m: name 'train_losses' is not defined"
     ]
    }
   ],
   "source": [
    "import matplotlib.pyplot as plt\n",
    "\n",
    "def plot_loss(train_losses, test_losses):\n",
    "    epochs = range(1, len(train_losses) + 1)\n",
    "\n",
    "    plt.figure(figsize=(10, 5))\n",
    "    plt.plot(epochs, train_losses, label='Train Loss', marker='o')\n",
    "    plt.plot(epochs, test_losses, label='Validation Loss', marker='o')\n",
    "    plt.xlabel('Epochs')\n",
    "    plt.ylabel('Loss')\n",
    "    plt.title('Training vs Validation Loss')\n",
    "    plt.legend()\n",
    "    plt.grid(True)\n",
    "    plt.tight_layout()\n",
    "    plt.show()\n",
    "plot_loss(train_losses ,test_losses )"
   ]
  },
  {
   "cell_type": "code",
   "execution_count": null,
   "metadata": {},
   "outputs": [
    {
     "name": "stdout",
     "output_type": "stream",
     "text": [
      "Trainable parameters: 6828538\n"
     ]
    }
   ],
   "source": [
    "trainable_params = sum(p.numel() for p in transformer.parameters() if p.requires_grad)\n",
    "print(f\"Trainable parameters: {trainable_params}\")"
   ]
  },
  {
   "cell_type": "code",
   "execution_count": null,
   "metadata": {},
   "outputs": [],
   "source": [
    "torch.save(transformer.state_dict(), \"transformer_seq2seq.pth\")"
   ]
  },
  {
   "cell_type": "code",
   "execution_count": null,
   "metadata": {},
   "outputs": [],
   "source": [
    "def translate(input_sentence, lang_token_id):\n",
    "    # Add the language token before the sentence\n",
    "    input_with_lang = f\"{lang_token_id} {input_sentence}\"\n",
    "\n",
    "    # Tokenize input with language token\n",
    "    enc_input = tokenizer(input_with_lang, return_tensors='pt')\n",
    "    enc_input = {k: v.to(device) for k, v in enc_input.items()}\n",
    "    \n",
    "    enc_output = encoder(enc_input['input_ids'], enc_input['attention_mask'])\n",
    "\n",
    "    # Decoder input starts with BOS token (2), followed by target lang token\n",
    "    dec_input_ids = torch.tensor([[2, lang_token_id]], device=device)\n",
    "    dec_attn_mask = torch.ones_like(dec_input_ids)\n",
    "\n",
    "    for _ in range(32):\n",
    "        dec_output = decoder(\n",
    "            enc_output,\n",
    "            dec_input_ids,\n",
    "            enc_input['attention_mask'],\n",
    "            dec_attn_mask\n",
    "        )\n",
    "        prediction_id = torch.argmax(dec_output[:, -1, :], dim=-1)\n",
    "        dec_input_ids = torch.cat((dec_input_ids, prediction_id.view(1, 1)), dim=1)\n",
    "        dec_attn_mask = torch.ones_like(dec_input_ids)\n",
    "\n",
    "        if prediction_id.item() == tokenizer.eos_token_id:\n",
    "            break\n",
    "\n",
    "    # Skip BOS and lang token in output\n",
    "    translation = tokenizer.decode(dec_input_ids[0, 2:], skip_special_tokens=True)\n",
    "    print(translation)\n"
   ]
  },
  {
   "cell_type": "code",
   "execution_count": null,
   "metadata": {},
   "outputs": [
    {
     "name": "stdout",
     "output_type": "stream",
     "text": [
      "Una día te encontrará .\n"
     ]
    }
   ],
   "source": [
    "translate(\"One day I will find you\",5)"
   ]
  },
  {
   "cell_type": "code",
   "execution_count": null,
   "metadata": {},
   "outputs": [],
   "source": [
    "es = 5\n",
    "fr = 6"
   ]
  },
  {
   "cell_type": "code",
   "execution_count": null,
   "metadata": {},
   "outputs": [
    {
     "name": "stdout",
     "output_type": "stream",
     "text": [
      "Hoy millas despierto las cinco .\n"
     ]
    }
   ],
   "source": [
    "translate(\"I woke up today quite early\",es)"
   ]
  }
 ],
 "metadata": {
  "kernelspec": {
   "display_name": "Python 3",
   "language": "python",
   "name": "python3"
  },
  "language_info": {
   "codemirror_mode": {
    "name": "ipython",
    "version": 3
   },
   "file_extension": ".py",
   "mimetype": "text/x-python",
   "name": "python",
   "nbconvert_exporter": "python",
   "pygments_lexer": "ipython3",
   "version": "3.11.9"
  }
 },
 "nbformat": 4,
 "nbformat_minor": 2
}
